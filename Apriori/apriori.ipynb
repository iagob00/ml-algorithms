{
 "cells": [
  {
   "cell_type": "markdown",
   "source": [
    "Getting Started with Apriori Algorithm"
   ],
   "metadata": {
    "collapsed": false
   },
   "id": "f6977184e7b73810"
  },
  {
   "cell_type": "code",
   "execution_count": 44,
   "outputs": [],
   "source": [
    "import numpy as np\n",
    "import pandas as pd\n",
    "import matplotlib.pyplot as plt\n",
    "from mlxtend.preprocessing import TransactionEncoder\n",
    "from mlxtend.frequent_patterns import apriori\n",
    "from mlxtend.frequent_patterns import association_rules\n",
    "from apyori import apriori"
   ],
   "metadata": {
    "collapsed": false,
    "ExecuteTime": {
     "end_time": "2023-10-27T19:34:44.079126400Z",
     "start_time": "2023-10-27T19:34:44.042124400Z"
    }
   },
   "id": "be2e3a9c56a50b34"
  },
  {
   "cell_type": "code",
   "execution_count": 45,
   "outputs": [
    {
     "data": {
      "text/plain": "array([[ True, False, False, False, False, False, False, False, False,\n        False],\n       [False,  True, False, False, False, False, False, False, False,\n        False],\n       [False, False,  True, False, False, False, False, False, False,\n        False],\n       [False, False, False,  True, False, False, False, False, False,\n        False],\n       [False, False, False, False,  True, False, False, False, False,\n        False],\n       [False, False, False, False, False,  True, False, False, False,\n        False],\n       [False, False, False, False, False, False,  True, False, False,\n        False],\n       [False, False, False, False, False, False, False,  True, False,\n        False],\n       [False, False, False, False, False, False, False, False,  True,\n        False],\n       [False, False, False, False, False, False, False, False, False,\n         True],\n       [ True,  True, False, False, False, False, False, False, False,\n        False],\n       [False, False, False, False, False, False, False, False, False,\n        False],\n       [False, False, False, False, False, False, False, False, False,\n        False],\n       [False, False, False, False, False, False, False, False, False,\n        False],\n       [False, False, False, False, False, False, False, False, False,\n        False],\n       [False, False, False, False, False, False, False, False, False,\n        False],\n       [False, False, False, False, False, False, False, False, False,\n        False],\n       [False, False, False, False, False, False, False, False, False,\n        False],\n       [False, False, False, False, False, False, False, False, False,\n        False],\n       [False, False, False, False, False, False, False, False, False,\n        False],\n       [False, False, False, False, False, False, False, False, False,\n        False],\n       [False, False, False, False, False, False, False, False, False,\n        False],\n       [False, False, False, False, False, False, False, False, False,\n        False],\n       [False, False, False, False, False, False, False, False, False,\n        False],\n       [False, False, False, False, False, False, False, False, False,\n        False],\n       [False, False, False, False, False, False, False, False, False,\n        False],\n       [False, False, False, False, False, False, False, False, False,\n        False],\n       [False, False, False, False, False, False, False, False, False,\n        False],\n       [False, False, False, False, False, False, False, False, False,\n        False],\n       [False, False, False, False, False, False, False, False, False,\n        False],\n       [False, False, False, False, False, False, False, False, False,\n        False],\n       [False, False, False, False, False, False, False, False, False,\n        False],\n       [False, False, False, False, False, False, False, False, False,\n        False],\n       [False, False, False, False, False, False, False, False, False,\n        False],\n       [False, False, False, False, False, False, False, False, False,\n        False],\n       [False, False, False, False, False, False, False, False, False,\n        False],\n       [False, False, False, False, False, False, False, False, False,\n        False],\n       [False, False, False, False, False, False, False, False, False,\n        False],\n       [False, False, False, False, False, False, False, False, False,\n        False],\n       [False, False, False, False, False, False, False, False, False,\n        False],\n       [False, False, False, False, False, False, False, False, False,\n        False],\n       [False, False, False, False, False, False, False, False, False,\n        False],\n       [False, False, False, False, False, False, False, False, False,\n        False],\n       [False, False, False, False, False, False, False, False, False,\n        False],\n       [False, False, False, False, False, False, False, False, False,\n        False],\n       [False, False, False, False, False, False, False, False, False,\n        False],\n       [False, False, False, False, False, False, False, False, False,\n        False],\n       [False, False, False, False, False, False, False, False, False,\n        False],\n       [False, False, False, False, False, False, False, False, False,\n        False],\n       [False, False, False, False, False, False, False, False, False,\n        False],\n       [False, False, False, False, False, False, False, False, False,\n        False],\n       [False, False, False, False, False, False, False, False, False,\n        False],\n       [False, False, False, False, False, False, False, False, False,\n        False],\n       [False, False, False, False, False, False, False, False, False,\n        False],\n       [False, False, False, False, False, False, False, False, False,\n        False],\n       [False, False, False, False, False, False, False, False, False,\n        False],\n       [False, False, False, False, False, False, False, False, False,\n        False],\n       [False, False, False, False, False, False, False, False, False,\n        False],\n       [False, False, False, False, False, False, False, False, False,\n        False],\n       [False, False, False, False, False, False, False, False, False,\n        False],\n       [False, False, False, False, False, False, False, False, False,\n        False],\n       [False, False, False, False, False, False, False, False, False,\n        False],\n       [False, False, False, False, False, False, False, False, False,\n        False],\n       [False, False, False, False, False, False, False, False, False,\n        False],\n       [False, False, False, False, False, False, False, False, False,\n        False],\n       [False, False, False, False, False, False, False, False, False,\n        False],\n       [False, False, False, False, False, False, False, False, False,\n        False],\n       [False, False, False, False, False, False, False, False, False,\n        False],\n       [False, False, False, False, False, False, False, False, False,\n        False],\n       [False, False, False, False, False, False, False, False, False,\n        False],\n       [False, False, False, False, False, False, False, False, False,\n        False],\n       [False, False, False, False, False, False, False, False, False,\n        False],\n       [False, False, False, False, False, False, False, False, False,\n        False],\n       [False, False, False, False, False, False, False, False, False,\n        False],\n       [False, False, False, False, False, False, False, False, False,\n        False],\n       [False, False, False, False, False, False, False, False, False,\n        False],\n       [False, False, False, False, False, False, False, False, False,\n        False],\n       [False, False, False, False, False, False, False, False, False,\n        False],\n       [False, False, False, False, False, False, False, False, False,\n        False],\n       [False, False, False, False, False, False, False, False, False,\n        False],\n       [False, False, False, False, False, False, False, False, False,\n        False],\n       [False, False, False, False, False, False, False, False, False,\n        False],\n       [False, False, False, False, False, False, False, False, False,\n        False],\n       [False, False, False, False, False, False, False, False, False,\n        False],\n       [False, False, False, False, False, False, False, False, False,\n        False],\n       [False, False, False, False, False, False, False, False, False,\n        False],\n       [False, False, False, False, False, False, False, False, False,\n        False],\n       [False, False, False, False, False, False, False, False, False,\n        False],\n       [False, False, False, False, False, False, False, False, False,\n        False],\n       [False, False, False, False, False, False, False, False, False,\n        False],\n       [False, False, False, False, False, False, False, False, False,\n        False],\n       [False, False, False, False, False, False, False, False, False,\n        False],\n       [False, False, False, False, False, False, False, False, False,\n        False],\n       [False, False, False, False, False, False, False, False, False,\n        False],\n       [False, False, False, False, False, False, False, False, False,\n        False],\n       [False, False, False, False, False, False, False, False, False,\n        False],\n       [False, False, False, False, False, False, False, False, False,\n        False],\n       [False, False, False, False, False, False, False, False, False,\n        False],\n       [False, False, False, False, False, False, False, False, False,\n        False],\n       [False, False, False, False, False, False, False, False, False,\n        False]])"
     },
     "execution_count": 45,
     "metadata": {},
     "output_type": "execute_result"
    }
   ],
   "source": [
    "## read csv data\n",
    "data = pd.read_csv(\"./basket.csv\")\n",
    "data = data.head(100)\n",
    "te = TransactionEncoder()\n",
    "te_array = te.fit(data).transform(data)\n",
    "te_array"
   ],
   "metadata": {
    "collapsed": false,
    "ExecuteTime": {
     "end_time": "2023-10-27T19:34:44.113134600Z",
     "start_time": "2023-10-27T19:34:44.060124300Z"
    }
   },
   "id": "983a6ec752ad7e9a"
  },
  {
   "cell_type": "code",
   "execution_count": 46,
   "outputs": [
    {
     "data": {
      "text/plain": "        0      1      2      3      4      5      6      7      8      9\n0    True  False  False  False  False  False  False  False  False  False\n1   False   True  False  False  False  False  False  False  False  False\n2   False  False   True  False  False  False  False  False  False  False\n3   False  False  False   True  False  False  False  False  False  False\n4   False  False  False  False   True  False  False  False  False  False\n..    ...    ...    ...    ...    ...    ...    ...    ...    ...    ...\n95  False  False  False  False  False  False  False  False  False  False\n96  False  False  False  False  False  False  False  False  False  False\n97  False  False  False  False  False  False  False  False  False  False\n98  False  False  False  False  False  False  False  False  False  False\n99  False  False  False  False  False  False  False  False  False  False\n\n[100 rows x 10 columns]",
      "text/html": "<div>\n<style scoped>\n    .dataframe tbody tr th:only-of-type {\n        vertical-align: middle;\n    }\n\n    .dataframe tbody tr th {\n        vertical-align: top;\n    }\n\n    .dataframe thead th {\n        text-align: right;\n    }\n</style>\n<table border=\"1\" class=\"dataframe\">\n  <thead>\n    <tr style=\"text-align: right;\">\n      <th></th>\n      <th>0</th>\n      <th>1</th>\n      <th>2</th>\n      <th>3</th>\n      <th>4</th>\n      <th>5</th>\n      <th>6</th>\n      <th>7</th>\n      <th>8</th>\n      <th>9</th>\n    </tr>\n  </thead>\n  <tbody>\n    <tr>\n      <th>0</th>\n      <td>True</td>\n      <td>False</td>\n      <td>False</td>\n      <td>False</td>\n      <td>False</td>\n      <td>False</td>\n      <td>False</td>\n      <td>False</td>\n      <td>False</td>\n      <td>False</td>\n    </tr>\n    <tr>\n      <th>1</th>\n      <td>False</td>\n      <td>True</td>\n      <td>False</td>\n      <td>False</td>\n      <td>False</td>\n      <td>False</td>\n      <td>False</td>\n      <td>False</td>\n      <td>False</td>\n      <td>False</td>\n    </tr>\n    <tr>\n      <th>2</th>\n      <td>False</td>\n      <td>False</td>\n      <td>True</td>\n      <td>False</td>\n      <td>False</td>\n      <td>False</td>\n      <td>False</td>\n      <td>False</td>\n      <td>False</td>\n      <td>False</td>\n    </tr>\n    <tr>\n      <th>3</th>\n      <td>False</td>\n      <td>False</td>\n      <td>False</td>\n      <td>True</td>\n      <td>False</td>\n      <td>False</td>\n      <td>False</td>\n      <td>False</td>\n      <td>False</td>\n      <td>False</td>\n    </tr>\n    <tr>\n      <th>4</th>\n      <td>False</td>\n      <td>False</td>\n      <td>False</td>\n      <td>False</td>\n      <td>True</td>\n      <td>False</td>\n      <td>False</td>\n      <td>False</td>\n      <td>False</td>\n      <td>False</td>\n    </tr>\n    <tr>\n      <th>...</th>\n      <td>...</td>\n      <td>...</td>\n      <td>...</td>\n      <td>...</td>\n      <td>...</td>\n      <td>...</td>\n      <td>...</td>\n      <td>...</td>\n      <td>...</td>\n      <td>...</td>\n    </tr>\n    <tr>\n      <th>95</th>\n      <td>False</td>\n      <td>False</td>\n      <td>False</td>\n      <td>False</td>\n      <td>False</td>\n      <td>False</td>\n      <td>False</td>\n      <td>False</td>\n      <td>False</td>\n      <td>False</td>\n    </tr>\n    <tr>\n      <th>96</th>\n      <td>False</td>\n      <td>False</td>\n      <td>False</td>\n      <td>False</td>\n      <td>False</td>\n      <td>False</td>\n      <td>False</td>\n      <td>False</td>\n      <td>False</td>\n      <td>False</td>\n    </tr>\n    <tr>\n      <th>97</th>\n      <td>False</td>\n      <td>False</td>\n      <td>False</td>\n      <td>False</td>\n      <td>False</td>\n      <td>False</td>\n      <td>False</td>\n      <td>False</td>\n      <td>False</td>\n      <td>False</td>\n    </tr>\n    <tr>\n      <th>98</th>\n      <td>False</td>\n      <td>False</td>\n      <td>False</td>\n      <td>False</td>\n      <td>False</td>\n      <td>False</td>\n      <td>False</td>\n      <td>False</td>\n      <td>False</td>\n      <td>False</td>\n    </tr>\n    <tr>\n      <th>99</th>\n      <td>False</td>\n      <td>False</td>\n      <td>False</td>\n      <td>False</td>\n      <td>False</td>\n      <td>False</td>\n      <td>False</td>\n      <td>False</td>\n      <td>False</td>\n      <td>False</td>\n    </tr>\n  </tbody>\n</table>\n<p>100 rows × 10 columns</p>\n</div>"
     },
     "execution_count": 46,
     "metadata": {},
     "output_type": "execute_result"
    }
   ],
   "source": [
    "transactions = pd.DataFrame(te_array, columns=te.columns_)\n",
    "transactions"
   ],
   "metadata": {
    "collapsed": false,
    "ExecuteTime": {
     "end_time": "2023-10-27T19:34:44.150151300Z",
     "start_time": "2023-10-27T19:34:44.107135100Z"
    }
   },
   "id": "1d17a69f5fad4e31"
  },
  {
   "cell_type": "code",
   "execution_count": 47,
   "outputs": [
    {
     "ename": "AttributeError",
     "evalue": "'generator' object has no attribute 'shape'",
     "output_type": "error",
     "traceback": [
      "\u001B[1;31m---------------------------------------------------------------------------\u001B[0m",
      "\u001B[1;31mAttributeError\u001B[0m                            Traceback (most recent call last)",
      "Cell \u001B[1;32mIn[47], line 2\u001B[0m\n\u001B[0;32m      1\u001B[0m freq \u001B[38;5;241m=\u001B[39m apriori(transactions, use_colnames\u001B[38;5;241m=\u001B[39m \u001B[38;5;28;01mTrue\u001B[39;00m, min_support\u001B[38;5;241m=\u001B[39m\u001B[38;5;241m0.5\u001B[39m)\n\u001B[1;32m----> 2\u001B[0m rules \u001B[38;5;241m=\u001B[39m \u001B[43massociation_rules\u001B[49m\u001B[43m(\u001B[49m\u001B[43mfreq\u001B[49m\u001B[43m,\u001B[49m\u001B[43m \u001B[49m\u001B[43mmetric\u001B[49m\u001B[38;5;241;43m=\u001B[39;49m\u001B[38;5;124;43m'\u001B[39;49m\u001B[38;5;124;43mconfidence\u001B[39;49m\u001B[38;5;124;43m'\u001B[39;49m\u001B[43m,\u001B[49m\u001B[43m \u001B[49m\u001B[43mmin_threshold\u001B[49m\u001B[38;5;241;43m=\u001B[39;49m\u001B[38;5;241;43m0.6\u001B[39;49m\u001B[43m)\u001B[49m\n\u001B[0;32m      3\u001B[0m rules\n",
      "File \u001B[1;32m~\\lib\\site-packages\\mlxtend\\frequent_patterns\\association_rules.py:82\u001B[0m, in \u001B[0;36massociation_rules\u001B[1;34m(df, metric, min_threshold, support_only)\u001B[0m\n\u001B[0;32m     17\u001B[0m \u001B[38;5;28;01mdef\u001B[39;00m \u001B[38;5;21massociation_rules\u001B[39m(df, metric\u001B[38;5;241m=\u001B[39m\u001B[38;5;124m\"\u001B[39m\u001B[38;5;124mconfidence\u001B[39m\u001B[38;5;124m\"\u001B[39m, min_threshold\u001B[38;5;241m=\u001B[39m\u001B[38;5;241m0.8\u001B[39m, support_only\u001B[38;5;241m=\u001B[39m\u001B[38;5;28;01mFalse\u001B[39;00m):\n\u001B[0;32m     18\u001B[0m \u001B[38;5;250m    \u001B[39m\u001B[38;5;124;03m\"\"\"Generates a DataFrame of association rules including the\u001B[39;00m\n\u001B[0;32m     19\u001B[0m \u001B[38;5;124;03m    metrics 'score', 'confidence', and 'lift'\u001B[39;00m\n\u001B[0;32m     20\u001B[0m \n\u001B[1;32m   (...)\u001B[0m\n\u001B[0;32m     80\u001B[0m \n\u001B[0;32m     81\u001B[0m \u001B[38;5;124;03m    \"\"\"\u001B[39;00m\n\u001B[1;32m---> 82\u001B[0m     \u001B[38;5;28;01mif\u001B[39;00m \u001B[38;5;129;01mnot\u001B[39;00m \u001B[43mdf\u001B[49m\u001B[38;5;241;43m.\u001B[39;49m\u001B[43mshape\u001B[49m[\u001B[38;5;241m0\u001B[39m]:\n\u001B[0;32m     83\u001B[0m         \u001B[38;5;28;01mraise\u001B[39;00m \u001B[38;5;167;01mValueError\u001B[39;00m(\n\u001B[0;32m     84\u001B[0m             \u001B[38;5;124m\"\u001B[39m\u001B[38;5;124mThe input DataFrame `df` containing \u001B[39m\u001B[38;5;124m\"\u001B[39m \u001B[38;5;124m\"\u001B[39m\u001B[38;5;124mthe frequent itemsets is empty.\u001B[39m\u001B[38;5;124m\"\u001B[39m\n\u001B[0;32m     85\u001B[0m         )\n\u001B[0;32m     87\u001B[0m     \u001B[38;5;66;03m# check for mandatory columns\u001B[39;00m\n",
      "\u001B[1;31mAttributeError\u001B[0m: 'generator' object has no attribute 'shape'"
     ]
    }
   ],
   "source": [
    "freq = apriori(transactions, use_colnames= True, min_support=0.5)\n",
    "rules = association_rules(freq, metric=\"confidence\", min_threshold=0.6)\n",
    "rules"
   ],
   "metadata": {
    "collapsed": false,
    "ExecuteTime": {
     "end_time": "2023-10-27T19:34:44.242172700Z",
     "start_time": "2023-10-27T19:34:44.139149600Z"
    }
   },
   "id": "23a11a97ee7d087b"
  },
  {
   "cell_type": "code",
   "execution_count": null,
   "outputs": [],
   "source": [],
   "metadata": {
    "collapsed": false,
    "ExecuteTime": {
     "start_time": "2023-10-27T19:34:44.216168500Z"
    }
   },
   "id": "7de9f7aa5f7380c1"
  }
 ],
 "metadata": {
  "kernelspec": {
   "display_name": "Python 3",
   "language": "python",
   "name": "python3"
  },
  "language_info": {
   "codemirror_mode": {
    "name": "ipython",
    "version": 2
   },
   "file_extension": ".py",
   "mimetype": "text/x-python",
   "name": "python",
   "nbconvert_exporter": "python",
   "pygments_lexer": "ipython2",
   "version": "2.7.6"
  }
 },
 "nbformat": 4,
 "nbformat_minor": 5
}
